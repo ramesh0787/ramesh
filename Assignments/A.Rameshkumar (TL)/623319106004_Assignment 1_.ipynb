{
 "cells": [
  {
   "cell_type": "markdown",
   "id": "88f62a00",
   "metadata": {},
   "source": [
    "# PYTHON"
   ]
  },
  {
   "cell_type": "markdown",
   "id": "54da7881",
   "metadata": {},
   "source": [
    "# 1. split this string"
   ]
  },
  {
   "cell_type": "code",
   "execution_count": 1,
   "id": "e54c0b3f",
   "metadata": {},
   "outputs": [],
   "source": [
    "s= \"Hi there sam!\""
   ]
  },
  {
   "cell_type": "code",
   "execution_count": 2,
   "id": "21f0098c",
   "metadata": {},
   "outputs": [
    {
     "data": {
      "text/plain": [
       "['Hi', 'there', 'sam!']"
      ]
     },
     "execution_count": 2,
     "metadata": {},
     "output_type": "execute_result"
    }
   ],
   "source": [
    "s.split()"
   ]
  },
  {
   "cell_type": "markdown",
   "id": "f7c559ac",
   "metadata": {},
   "source": [
    "# 2.Use format() to print the following string."
   ]
  },
  {
   "cell_type": "markdown",
   "id": "bd0b2930",
   "metadata": {},
   "source": [
    "ouput sholud be: The diameter of Earth is 12742 kilometeres."
   ]
  },
  {
   "cell_type": "code",
   "execution_count": 3,
   "id": "0fc5f4c3",
   "metadata": {},
   "outputs": [],
   "source": [
    "planet =\"Earth\"\n",
    "diameter = 12742"
   ]
  },
  {
   "cell_type": "code",
   "execution_count": 7,
   "id": "9a69b7df",
   "metadata": {},
   "outputs": [
    {
     "name": "stdout",
     "output_type": "stream",
     "text": [
      "The diameter ofEarthis12742 kilometer.\n"
     ]
    }
   ],
   "source": [
    "print(\"The diameter of{}is{} kilometer.\".format(planet,diameter))"
   ]
  },
  {
   "cell_type": "markdown",
   "id": "64683158",
   "metadata": {},
   "source": [
    "# 3.In this nest dictionary grab the word \"hello\""
   ]
  },
  {
   "cell_type": "code",
   "execution_count": 9,
   "id": "6d46a4f1",
   "metadata": {},
   "outputs": [],
   "source": [
    "d={'k1':[1,2,3,{'tricky':['oh','man','inception',{'target':[1,2,3,'hello']}]}]}\n",
    "                                                 \n",
    "                                                 \n",
    "                                                 \n",
    "                                                           \n",
    "                                                          \n",
    "   "
   ]
  },
  {
   "cell_type": "code",
   "execution_count": 10,
   "id": "12a9c675",
   "metadata": {},
   "outputs": [
    {
     "data": {
      "text/plain": [
       "'hello'"
      ]
     },
     "execution_count": 10,
     "metadata": {},
     "output_type": "execute_result"
    }
   ],
   "source": [
    "d['k1'][3]['tricky'][3]['target'][3]"
   ]
  },
  {
   "cell_type": "markdown",
   "id": "d6c0c5bd",
   "metadata": {},
   "source": [
    "# Numpy"
   ]
  },
  {
   "cell_type": "code",
   "execution_count": 11,
   "id": "ef95903a",
   "metadata": {},
   "outputs": [],
   "source": [
    "import numpy as np"
   ]
  },
  {
   "cell_type": "code",
   "execution_count": 17,
   "id": "590b554b",
   "metadata": {},
   "outputs": [
    {
     "name": "stdout",
     "output_type": "stream",
     "text": [
      "[0. 0. 0. 0. 0. 0. 0. 0. 0. 0.]\n"
     ]
    }
   ],
   "source": [
    "4.1 #Create an array of 10 zeros?\n",
    "array = np.zeros(10)\n",
    "print(array)"
   ]
  },
  {
   "cell_type": "code",
   "execution_count": 21,
   "id": "49c633fb",
   "metadata": {},
   "outputs": [
    {
     "name": "stdout",
     "output_type": "stream",
     "text": [
      "[5. 5. 5. 5. 5. 5. 5. 5. 5. 5.]\n"
     ]
    }
   ],
   "source": [
    "4.1 #create an array of 10 fives?\n",
    "array=np.ones(10)*5\n",
    "print(array)\n",
    "      "
   ]
  },
  {
   "cell_type": "markdown",
   "id": "83beeb18",
   "metadata": {},
   "source": [
    "# 5. Create an array of all the even integers from 20 to 35"
   ]
  },
  {
   "cell_type": "code",
   "execution_count": 22,
   "id": "4dd0a5a2",
   "metadata": {},
   "outputs": [
    {
     "name": "stdout",
     "output_type": "stream",
     "text": [
      "[20 22 24 26 28 30 32 34]\n"
     ]
    }
   ],
   "source": [
    "array =np.arange(20,35,2)\n",
    "print(array)"
   ]
  },
  {
   "cell_type": "markdown",
   "id": "4318e354",
   "metadata": {},
   "source": [
    "# 6.Create a 3*3 matrix with values ranging from 0 to 8"
   ]
  },
  {
   "cell_type": "code",
   "execution_count": 34,
   "id": "245fb72a",
   "metadata": {},
   "outputs": [
    {
     "name": "stdout",
     "output_type": "stream",
     "text": [
      "[[0 1 2]\n",
      " [3 4 5]\n",
      " [6 7 8]]\n"
     ]
    }
   ],
   "source": [
    "array = np.arange(0,9).reshape(3,3)\n",
    "print(array)\n"
   ]
  },
  {
   "cell_type": "markdown",
   "id": "c08292ab",
   "metadata": {},
   "source": [
    "# 7.Concatenate a and b"
   ]
  },
  {
   "cell_type": "markdown",
   "id": "cc367ed3",
   "metadata": {},
   "source": [
    "a= np.array([1,2,3]),b=np.array([4,5,6])"
   ]
  },
  {
   "cell_type": "code",
   "execution_count": 14,
   "id": "e3b15c0d",
   "metadata": {},
   "outputs": [
    {
     "data": {
      "text/plain": [
       "array([1, 2, 3, 4, 5, 6])"
      ]
     },
     "execution_count": 14,
     "metadata": {},
     "output_type": "execute_result"
    }
   ],
   "source": [
    "import numpy as np\n",
    "a = np.array( [1,2,3])\n",
    "b = np.array( [4,5,6])\n",
    "np.concatenate([a,b])"
   ]
  },
  {
   "cell_type": "markdown",
   "id": "8db0c74e",
   "metadata": {},
   "source": [
    "# pandas"
   ]
  },
  {
   "cell_type": "markdown",
   "id": "f0e910d7",
   "metadata": {},
   "source": [
    "# 8.Create a dataframe with 3 rows and 2 columns"
   ]
  },
  {
   "cell_type": "code",
   "execution_count": 15,
   "id": "ea139474",
   "metadata": {},
   "outputs": [],
   "source": [
    "import pandas as pd"
   ]
  },
  {
   "cell_type": "code",
   "execution_count": 18,
   "id": "dfcd8096",
   "metadata": {},
   "outputs": [],
   "source": [
    "df = {\"name\":[\"mohana\",\"sri\",\"ammu\"],\"age\":[21,20,23]}"
   ]
  },
  {
   "cell_type": "code",
   "execution_count": 21,
   "id": "cf0d9f6a",
   "metadata": {},
   "outputs": [
    {
     "data": {
      "text/html": [
       "<div>\n",
       "<style scoped>\n",
       "    .dataframe tbody tr th:only-of-type {\n",
       "        vertical-align: middle;\n",
       "    }\n",
       "\n",
       "    .dataframe tbody tr th {\n",
       "        vertical-align: top;\n",
       "    }\n",
       "\n",
       "    .dataframe thead th {\n",
       "        text-align: right;\n",
       "    }\n",
       "</style>\n",
       "<table border=\"1\" class=\"dataframe\">\n",
       "  <thead>\n",
       "    <tr style=\"text-align: right;\">\n",
       "      <th></th>\n",
       "      <th>name</th>\n",
       "      <th>age</th>\n",
       "    </tr>\n",
       "  </thead>\n",
       "  <tbody>\n",
       "    <tr>\n",
       "      <th>0</th>\n",
       "      <td>mohana</td>\n",
       "      <td>21</td>\n",
       "    </tr>\n",
       "    <tr>\n",
       "      <th>1</th>\n",
       "      <td>sri</td>\n",
       "      <td>20</td>\n",
       "    </tr>\n",
       "    <tr>\n",
       "      <th>2</th>\n",
       "      <td>ammu</td>\n",
       "      <td>23</td>\n",
       "    </tr>\n",
       "  </tbody>\n",
       "</table>\n",
       "</div>"
      ],
      "text/plain": [
       "     name  age\n",
       "0  mohana   21\n",
       "1     sri   20\n",
       "2    ammu   23"
      ]
     },
     "execution_count": 21,
     "metadata": {},
     "output_type": "execute_result"
    }
   ],
   "source": [
    "df = pd.DataFrame(df)\n",
    "df"
   ]
  },
  {
   "cell_type": "markdown",
   "id": "2036b113",
   "metadata": {},
   "source": [
    "# 9. Generate the series of dates from 1st Jan,2023 to 10th Feb,2023"
   ]
  },
  {
   "cell_type": "code",
   "execution_count": 23,
   "id": "f2d367af",
   "metadata": {},
   "outputs": [
    {
     "name": "stdout",
     "output_type": "stream",
     "text": [
      "2023-01-01 00:00:00\n",
      "2023-01-02 00:00:00\n",
      "2023-01-03 00:00:00\n",
      "2023-01-04 00:00:00\n",
      "2023-01-05 00:00:00\n",
      "2023-01-06 00:00:00\n",
      "2023-01-07 00:00:00\n",
      "2023-01-08 00:00:00\n",
      "2023-01-09 00:00:00\n",
      "2023-01-10 00:00:00\n",
      "2023-01-11 00:00:00\n",
      "2023-01-12 00:00:00\n",
      "2023-01-13 00:00:00\n",
      "2023-01-14 00:00:00\n",
      "2023-01-15 00:00:00\n",
      "2023-01-16 00:00:00\n",
      "2023-01-17 00:00:00\n",
      "2023-01-18 00:00:00\n",
      "2023-01-19 00:00:00\n",
      "2023-01-20 00:00:00\n",
      "2023-01-21 00:00:00\n",
      "2023-01-22 00:00:00\n",
      "2023-01-23 00:00:00\n",
      "2023-01-24 00:00:00\n",
      "2023-01-25 00:00:00\n",
      "2023-01-26 00:00:00\n",
      "2023-01-27 00:00:00\n",
      "2023-01-28 00:00:00\n",
      "2023-01-29 00:00:00\n",
      "2023-01-30 00:00:00\n",
      "2023-01-31 00:00:00\n",
      "2023-02-01 00:00:00\n",
      "2023-02-02 00:00:00\n",
      "2023-02-03 00:00:00\n",
      "2023-02-04 00:00:00\n",
      "2023-02-05 00:00:00\n",
      "2023-02-06 00:00:00\n",
      "2023-02-07 00:00:00\n",
      "2023-02-08 00:00:00\n",
      "2023-02-09 00:00:00\n",
      "2023-02-10 00:00:00\n",
      "2023-02-11 00:00:00\n",
      "2023-02-12 00:00:00\n",
      "2023-02-13 00:00:00\n",
      "2023-02-14 00:00:00\n",
      "2023-02-15 00:00:00\n",
      "2023-02-16 00:00:00\n",
      "2023-02-17 00:00:00\n",
      "2023-02-18 00:00:00\n",
      "2023-02-19 00:00:00\n",
      "2023-02-20 00:00:00\n",
      "2023-02-21 00:00:00\n",
      "2023-02-22 00:00:00\n",
      "2023-02-23 00:00:00\n",
      "2023-02-24 00:00:00\n",
      "2023-02-25 00:00:00\n",
      "2023-02-26 00:00:00\n",
      "2023-02-27 00:00:00\n",
      "2023-02-28 00:00:00\n",
      "2023-03-01 00:00:00\n",
      "2023-03-02 00:00:00\n",
      "2023-03-03 00:00:00\n",
      "2023-03-04 00:00:00\n",
      "2023-03-05 00:00:00\n",
      "2023-03-06 00:00:00\n",
      "2023-03-07 00:00:00\n",
      "2023-03-08 00:00:00\n",
      "2023-03-09 00:00:00\n",
      "2023-03-10 00:00:00\n",
      "2023-03-11 00:00:00\n",
      "2023-03-12 00:00:00\n",
      "2023-03-13 00:00:00\n",
      "2023-03-14 00:00:00\n",
      "2023-03-15 00:00:00\n",
      "2023-03-16 00:00:00\n",
      "2023-03-17 00:00:00\n",
      "2023-03-18 00:00:00\n",
      "2023-03-19 00:00:00\n",
      "2023-03-20 00:00:00\n",
      "2023-03-21 00:00:00\n",
      "2023-03-22 00:00:00\n",
      "2023-03-23 00:00:00\n",
      "2023-03-24 00:00:00\n",
      "2023-03-25 00:00:00\n",
      "2023-03-26 00:00:00\n",
      "2023-03-27 00:00:00\n",
      "2023-03-28 00:00:00\n",
      "2023-03-29 00:00:00\n",
      "2023-03-30 00:00:00\n",
      "2023-03-31 00:00:00\n",
      "2023-04-01 00:00:00\n",
      "2023-04-02 00:00:00\n",
      "2023-04-03 00:00:00\n",
      "2023-04-04 00:00:00\n",
      "2023-04-05 00:00:00\n",
      "2023-04-06 00:00:00\n",
      "2023-04-07 00:00:00\n",
      "2023-04-08 00:00:00\n",
      "2023-04-09 00:00:00\n",
      "2023-04-10 00:00:00\n",
      "2023-04-11 00:00:00\n",
      "2023-04-12 00:00:00\n",
      "2023-04-13 00:00:00\n",
      "2023-04-14 00:00:00\n",
      "2023-04-15 00:00:00\n",
      "2023-04-16 00:00:00\n",
      "2023-04-17 00:00:00\n",
      "2023-04-18 00:00:00\n",
      "2023-04-19 00:00:00\n",
      "2023-04-20 00:00:00\n",
      "2023-04-21 00:00:00\n",
      "2023-04-22 00:00:00\n",
      "2023-04-23 00:00:00\n",
      "2023-04-24 00:00:00\n",
      "2023-04-25 00:00:00\n",
      "2023-04-26 00:00:00\n",
      "2023-04-27 00:00:00\n",
      "2023-04-28 00:00:00\n",
      "2023-04-29 00:00:00\n",
      "2023-04-30 00:00:00\n",
      "2023-05-01 00:00:00\n",
      "2023-05-02 00:00:00\n",
      "2023-05-03 00:00:00\n",
      "2023-05-04 00:00:00\n",
      "2023-05-05 00:00:00\n",
      "2023-05-06 00:00:00\n",
      "2023-05-07 00:00:00\n",
      "2023-05-08 00:00:00\n",
      "2023-05-09 00:00:00\n",
      "2023-05-10 00:00:00\n",
      "2023-05-11 00:00:00\n",
      "2023-05-12 00:00:00\n",
      "2023-05-13 00:00:00\n",
      "2023-05-14 00:00:00\n",
      "2023-05-15 00:00:00\n",
      "2023-05-16 00:00:00\n",
      "2023-05-17 00:00:00\n",
      "2023-05-18 00:00:00\n",
      "2023-05-19 00:00:00\n",
      "2023-05-20 00:00:00\n",
      "2023-05-21 00:00:00\n",
      "2023-05-22 00:00:00\n",
      "2023-05-23 00:00:00\n",
      "2023-05-24 00:00:00\n",
      "2023-05-25 00:00:00\n",
      "2023-05-26 00:00:00\n",
      "2023-05-27 00:00:00\n",
      "2023-05-28 00:00:00\n",
      "2023-05-29 00:00:00\n",
      "2023-05-30 00:00:00\n",
      "2023-05-31 00:00:00\n",
      "2023-06-01 00:00:00\n",
      "2023-06-02 00:00:00\n",
      "2023-06-03 00:00:00\n",
      "2023-06-04 00:00:00\n",
      "2023-06-05 00:00:00\n",
      "2023-06-06 00:00:00\n",
      "2023-06-07 00:00:00\n",
      "2023-06-08 00:00:00\n",
      "2023-06-09 00:00:00\n",
      "2023-06-10 00:00:00\n",
      "2023-06-11 00:00:00\n",
      "2023-06-12 00:00:00\n",
      "2023-06-13 00:00:00\n",
      "2023-06-14 00:00:00\n",
      "2023-06-15 00:00:00\n",
      "2023-06-16 00:00:00\n",
      "2023-06-17 00:00:00\n",
      "2023-06-18 00:00:00\n",
      "2023-06-19 00:00:00\n",
      "2023-06-20 00:00:00\n",
      "2023-06-21 00:00:00\n",
      "2023-06-22 00:00:00\n",
      "2023-06-23 00:00:00\n",
      "2023-06-24 00:00:00\n",
      "2023-06-25 00:00:00\n",
      "2023-06-26 00:00:00\n",
      "2023-06-27 00:00:00\n",
      "2023-06-28 00:00:00\n",
      "2023-06-29 00:00:00\n",
      "2023-06-30 00:00:00\n",
      "2023-07-01 00:00:00\n",
      "2023-07-02 00:00:00\n",
      "2023-07-03 00:00:00\n",
      "2023-07-04 00:00:00\n",
      "2023-07-05 00:00:00\n",
      "2023-07-06 00:00:00\n",
      "2023-07-07 00:00:00\n",
      "2023-07-08 00:00:00\n",
      "2023-07-09 00:00:00\n",
      "2023-07-10 00:00:00\n",
      "2023-07-11 00:00:00\n",
      "2023-07-12 00:00:00\n",
      "2023-07-13 00:00:00\n",
      "2023-07-14 00:00:00\n",
      "2023-07-15 00:00:00\n",
      "2023-07-16 00:00:00\n",
      "2023-07-17 00:00:00\n",
      "2023-07-18 00:00:00\n",
      "2023-07-19 00:00:00\n",
      "2023-07-20 00:00:00\n",
      "2023-07-21 00:00:00\n",
      "2023-07-22 00:00:00\n",
      "2023-07-23 00:00:00\n",
      "2023-07-24 00:00:00\n",
      "2023-07-25 00:00:00\n",
      "2023-07-26 00:00:00\n",
      "2023-07-27 00:00:00\n",
      "2023-07-28 00:00:00\n",
      "2023-07-29 00:00:00\n",
      "2023-07-30 00:00:00\n",
      "2023-07-31 00:00:00\n",
      "2023-08-01 00:00:00\n",
      "2023-08-02 00:00:00\n",
      "2023-08-03 00:00:00\n",
      "2023-08-04 00:00:00\n",
      "2023-08-05 00:00:00\n",
      "2023-08-06 00:00:00\n",
      "2023-08-07 00:00:00\n",
      "2023-08-08 00:00:00\n",
      "2023-08-09 00:00:00\n",
      "2023-08-10 00:00:00\n",
      "2023-08-11 00:00:00\n",
      "2023-08-12 00:00:00\n",
      "2023-08-13 00:00:00\n",
      "2023-08-14 00:00:00\n",
      "2023-08-15 00:00:00\n",
      "2023-08-16 00:00:00\n",
      "2023-08-17 00:00:00\n",
      "2023-08-18 00:00:00\n",
      "2023-08-19 00:00:00\n",
      "2023-08-20 00:00:00\n",
      "2023-08-21 00:00:00\n",
      "2023-08-22 00:00:00\n",
      "2023-08-23 00:00:00\n",
      "2023-08-24 00:00:00\n",
      "2023-08-25 00:00:00\n",
      "2023-08-26 00:00:00\n",
      "2023-08-27 00:00:00\n",
      "2023-08-28 00:00:00\n",
      "2023-08-29 00:00:00\n",
      "2023-08-30 00:00:00\n",
      "2023-08-31 00:00:00\n",
      "2023-09-01 00:00:00\n",
      "2023-09-02 00:00:00\n",
      "2023-09-03 00:00:00\n",
      "2023-09-04 00:00:00\n",
      "2023-09-05 00:00:00\n",
      "2023-09-06 00:00:00\n",
      "2023-09-07 00:00:00\n",
      "2023-09-08 00:00:00\n",
      "2023-09-09 00:00:00\n",
      "2023-09-10 00:00:00\n",
      "2023-09-11 00:00:00\n",
      "2023-09-12 00:00:00\n",
      "2023-09-13 00:00:00\n",
      "2023-09-14 00:00:00\n",
      "2023-09-15 00:00:00\n",
      "2023-09-16 00:00:00\n",
      "2023-09-17 00:00:00\n",
      "2023-09-18 00:00:00\n",
      "2023-09-19 00:00:00\n",
      "2023-09-20 00:00:00\n",
      "2023-09-21 00:00:00\n",
      "2023-09-22 00:00:00\n",
      "2023-09-23 00:00:00\n",
      "2023-09-24 00:00:00\n",
      "2023-09-25 00:00:00\n",
      "2023-09-26 00:00:00\n",
      "2023-09-27 00:00:00\n",
      "2023-09-28 00:00:00\n",
      "2023-09-29 00:00:00\n",
      "2023-09-30 00:00:00\n",
      "2023-10-01 00:00:00\n",
      "2023-10-02 00:00:00\n"
     ]
    }
   ],
   "source": [
    "p = pd.date_range(start='1-1-2023',end='10-2-2023')\n",
    "for val in p:\n",
    "    print(val);"
   ]
  },
  {
   "cell_type": "markdown",
   "id": "04f717b8",
   "metadata": {},
   "source": [
    "# 10.Create 2D list to DataFrame"
   ]
  },
  {
   "cell_type": "markdown",
   "id": "be356067",
   "metadata": {},
   "source": [
    "lists = [[1,'aaa',22],\n",
    "       [2,'bbb',25],\n",
    "        [3,'ccc',24]]"
   ]
  },
  {
   "cell_type": "code",
   "execution_count": 26,
   "id": "c69a3842",
   "metadata": {},
   "outputs": [],
   "source": [
    "list = [[1, 'aaa', 22], [2,'bbb', 25], [3,'ccc', 24]]"
   ]
  },
  {
   "cell_type": "code",
   "execution_count": 27,
   "id": "98f885f1",
   "metadata": {},
   "outputs": [
    {
     "data": {
      "text/html": [
       "<div>\n",
       "<style scoped>\n",
       "    .dataframe tbody tr th:only-of-type {\n",
       "        vertical-align: middle;\n",
       "    }\n",
       "\n",
       "    .dataframe tbody tr th {\n",
       "        vertical-align: top;\n",
       "    }\n",
       "\n",
       "    .dataframe thead th {\n",
       "        text-align: right;\n",
       "    }\n",
       "</style>\n",
       "<table border=\"1\" class=\"dataframe\">\n",
       "  <thead>\n",
       "    <tr style=\"text-align: right;\">\n",
       "      <th></th>\n",
       "      <th>0</th>\n",
       "      <th>1</th>\n",
       "      <th>2</th>\n",
       "    </tr>\n",
       "  </thead>\n",
       "  <tbody>\n",
       "    <tr>\n",
       "      <th>0</th>\n",
       "      <td>1</td>\n",
       "      <td>aaa</td>\n",
       "      <td>22</td>\n",
       "    </tr>\n",
       "    <tr>\n",
       "      <th>1</th>\n",
       "      <td>2</td>\n",
       "      <td>bbb</td>\n",
       "      <td>25</td>\n",
       "    </tr>\n",
       "    <tr>\n",
       "      <th>2</th>\n",
       "      <td>3</td>\n",
       "      <td>ccc</td>\n",
       "      <td>24</td>\n",
       "    </tr>\n",
       "  </tbody>\n",
       "</table>\n",
       "</div>"
      ],
      "text/plain": [
       "   0    1   2\n",
       "0  1  aaa  22\n",
       "1  2  bbb  25\n",
       "2  3  ccc  24"
      ]
     },
     "execution_count": 27,
     "metadata": {},
     "output_type": "execute_result"
    }
   ],
   "source": [
    "df = pd.DataFrame(list)\n",
    "df"
   ]
  },
  {
   "cell_type": "code",
   "execution_count": null,
   "id": "9c45306d",
   "metadata": {},
   "outputs": [],
   "source": []
  }
 ],
 "metadata": {
  "kernelspec": {
   "display_name": "Python 3 (ipykernel)",
   "language": "python",
   "name": "python3"
  },
  "language_info": {
   "codemirror_mode": {
    "name": "ipython",
    "version": 3
   },
   "file_extension": ".py",
   "mimetype": "text/x-python",
   "name": "python",
   "nbconvert_exporter": "python",
   "pygments_lexer": "ipython3",
   "version": "3.9.12"
  }
 },
 "nbformat": 4,
 "nbformat_minor": 5
}
