{
  "cells": [
    {
      "cell_type": "markdown",
      "metadata": {
        "id": "mPfFN0N1zEAz"
      },
      "source": [
        "# **Build CNN Model for Classification of Flowers**"
      ]
    },
    {
      "cell_type": "markdown",
      "metadata": {
        "id": "ARIECzP3zZ4S"
      },
      "source": [
        "# **1.Download the Dataset**"
      ]
    },
    {
      "cell_type": "code",
      "execution_count": null,
      "metadata": {
        "id": "BNhcaJal5xtt"
      },
      "outputs": [],
      "source": [
        "pwd"
      ]
    },
    {
      "cell_type": "markdown",
      "metadata": {
        "id": "wPDYi3uEzo96"
      },
      "source": [
        "**Load the image Dataset**"
      ]
    },
    {
      "cell_type": "code",
      "execution_count": null,
      "metadata": {
        "colab": {
          "base_uri": "https://localhost:8080/"
        },
        "id": "vti14268Rckx",
        "outputId": "bfa113f1-5d15-4b88-eba2-4adeca654038"
      },
      "outputs": [
        {
          "name": "stdout",
          "output_type": "stream",
          "text": [
            "Drive already mounted at /content/drive; to attempt to forcibly remount, call drive.mount(\"/content/drive\", force_remount=True).\n"
          ]
        }
      ],
      "source": [
        "from google.colab import drive\n",
        "drive.mount('/content/drive')"
      ]
    },
    {
      "cell_type": "markdown",
      "metadata": {
        "id": "7zOy9CTZz6Om"
      },
      "source": [
        "**UN-zip the Folder**"
      ]
    },
    {
      "cell_type": "code",
      "execution_count": null,
      "metadata": {
        "colab": {
          "base_uri": "https://localhost:8080/"
        },
        "id": "DrWZ0sDWRzWA",
        "outputId": "5c6cdfce-7fcc-454e-8197-559aa6c02f83"
      },
      "outputs": [
        {
          "name": "stdout",
          "output_type": "stream",
          "text": [
            "/content/drive/MyDrive\n"
          ]
        }
      ],
      "source": [
        "cd //content/drive/MyDrive"
      ]
    },
    {
      "cell_type": "code",
      "execution_count": null,
      "metadata": {
        "colab": {
          "base_uri": "https://localhost:8080/"
        },
        "id": "gdRhF2U1SGDA",
        "outputId": "4c37ecf3-8a78-4596-e532-8871bbe18f27"
      },
      "outputs": [
        {
          "name": "stdout",
          "output_type": "stream",
          "text": [
            "Archive:  Flowers-Dataset.zip\n",
            "replace flowers/daisy/100080576_f52e8ee070_n.jpg? [y]es, [n]o, [A]ll, [N]one, [r]ename: N\n",
            "\n"
          ]
        }
      ],
      "source": [
        "!unzip Flowers-Dataset.zip"
      ]
    },
    {
      "cell_type": "code",
      "execution_count": null,
      "metadata": {
        "colab": {
          "base_uri": "https://localhost:8080/",
          "height": 35
        },
        "id": "nGnvFKlDTRhI",
        "outputId": "c4ccc40d-6257-4bfb-b1db-a7a5796321d4"
      },
      "outputs": [
        {
          "data": {
            "application/vnd.google.colaboratory.intrinsic+json": {
              "type": "string"
            },
            "text/plain": [
              "'/content/drive/MyDrive'"
            ]
          },
          "execution_count": 9,
          "metadata": {},
          "output_type": "execute_result"
        }
      ],
      "source": [
        "pwd"
      ]
    },
    {
      "cell_type": "markdown",
      "metadata": {
        "id": "PBtzRZSC0Ha2"
      },
      "source": [
        "# **2.Image Augmentation**"
      ]
    },
    {
      "cell_type": "code",
      "execution_count": null,
      "metadata": {
        "id": "ZhUa6YwiUiS4"
      },
      "outputs": [],
      "source": [
        "from tensorflow.keras.preprocessing.image import ImageDataGenerator"
      ]
    },
    {
      "cell_type": "code",
      "execution_count": null,
      "metadata": {
        "id": "smrZLFsaXlm7"
      },
      "outputs": [],
      "source": [
        "train_datagen = ImageDataGenerator(rescale= 1./255,horizontal_flip = True,vertical_flip =True,zoom_range = 0.2)\n"
      ]
    },
    {
      "cell_type": "code",
      "execution_count": null,
      "metadata": {
        "id": "Dml1sqGOXtLq"
      },
      "outputs": [],
      "source": [
        "test_datagen = ImageDataGenerator(rescale= 1./255)"
      ]
    },
    {
      "cell_type": "code",
      "execution_count": null,
      "metadata": {
        "colab": {
          "base_uri": "https://localhost:8080/",
          "height": 35
        },
        "id": "LJf0K7vTYAN1",
        "outputId": "c0911b6f-6dd1-4b4f-fcde-ce205b889a5a"
      },
      "outputs": [
        {
          "data": {
            "application/vnd.google.colaboratory.intrinsic+json": {
              "type": "string"
            },
            "text/plain": [
              "'/content/drive/MyDrive'"
            ]
          },
          "execution_count": 15,
          "metadata": {},
          "output_type": "execute_result"
        }
      ],
      "source": [
        "pwd"
      ]
    },
    {
      "cell_type": "code",
      "execution_count": null,
      "metadata": {
        "colab": {
          "base_uri": "https://localhost:8080/"
        },
        "id": "LSGqWnkgYDvg",
        "outputId": "f5c0f95f-fa0d-451f-d8db-38fd8fc68860"
      },
      "outputs": [
        {
          "name": "stdout",
          "output_type": "stream",
          "text": [
            "Found 4317 images belonging to 5 classes.\n"
          ]
        }
      ],
      "source": [
        "x_train =train_datagen.flow_from_directory(r\"/content/drive/MyDrive/flowers\",target_size = (64,64), class_mode = \"categorical\",batch_size = 24)"
      ]
    },
    {
      "cell_type": "code",
      "execution_count": null,
      "metadata": {
        "colab": {
          "base_uri": "https://localhost:8080/"
        },
        "id": "ht-9E156YYyf",
        "outputId": "40bd871b-0536-4a75-b116-27158d25837d"
      },
      "outputs": [
        {
          "name": "stdout",
          "output_type": "stream",
          "text": [
            "Found 4317 images belonging to 5 classes.\n"
          ]
        }
      ],
      "source": [
        "x_test =test_datagen.flow_from_directory(r\"/content/drive/MyDrive/flowers\",target_size = (64,64),class_mode = \"categorical\",batch_size = 24)"
      ]
    },
    {
      "cell_type": "code",
      "execution_count": null,
      "metadata": {
        "colab": {
          "base_uri": "https://localhost:8080/"
        },
        "id": "Rtk6kkI8YtMn",
        "outputId": "58e740f4-7d28-460d-b978-5a6690c98c5a"
      },
      "outputs": [
        {
          "data": {
            "text/plain": [
              "{'daisy': 0, 'dandelion': 1, 'rose': 2, 'sunflower': 3, 'tulip': 4}"
            ]
          },
          "execution_count": 19,
          "metadata": {},
          "output_type": "execute_result"
        }
      ],
      "source": [
        "x_train.class_indices\n"
      ]
    },
    {
      "cell_type": "markdown",
      "metadata": {
        "id": "v5-th1g20XoK"
      },
      "source": [
        "**CNN**"
      ]
    },
    {
      "cell_type": "markdown",
      "metadata": {
        "id": "jqJ9Z_970ioE"
      },
      "source": [
        "# **3.Create Model**"
      ]
    },
    {
      "cell_type": "code",
      "execution_count": null,
      "metadata": {
        "id": "Vo-kqmlTYtbZ"
      },
      "outputs": [],
      "source": [
        "from tensorflow.keras.models import Sequential\n",
        "from tensorflow.keras.layers import Dense\n",
        "from tensorflow.keras.layers import Convolution2D,MaxPooling2D,Flatten"
      ]
    },
    {
      "cell_type": "code",
      "execution_count": null,
      "metadata": {
        "id": "oW_YsjgcfsyB"
      },
      "outputs": [],
      "source": [
        "model=Sequential()"
      ]
    },
    {
      "cell_type": "markdown",
      "metadata": {
        "id": "X1NI4CH-0s-A"
      },
      "source": [
        "# **4.Add Layers(Convolution,Maxpooling,Flatten**"
      ]
    },
    {
      "cell_type": "code",
      "execution_count": null,
      "metadata": {
        "colab": {
          "base_uri": "https://localhost:8080/"
        },
        "id": "QMl1wX-VfzCn",
        "outputId": "5fc2113e-0544-4626-e33a-36caac471172"
      },
      "outputs": [
        {
          "name": "stdout",
          "output_type": "stream",
          "text": [
            "Model: \"sequential\"\n",
            "_________________________________________________________________\n",
            " Layer (type)                Output Shape              Param #   \n",
            "=================================================================\n",
            " conv2d (Conv2D)             (None, 62, 62, 32)        896       \n",
            "                                                                 \n",
            " max_pooling2d (MaxPooling2D  (None, 31, 31, 32)       0         \n",
            " )                                                               \n",
            "                                                                 \n",
            " flatten (Flatten)           (None, 30752)             0         \n",
            "                                                                 \n",
            "=================================================================\n",
            "Total params: 896\n",
            "Trainable params: 896\n",
            "Non-trainable params: 0\n",
            "_________________________________________________________________\n"
          ]
        }
      ],
      "source": [
        "model.add(Convolution2D(32,(3,3),input_shape=(64,64,3),activation='relu'))\n",
        "model.add(MaxPooling2D(pool_size=(2,2)))\n",
        "model.add(Flatten())\n",
        "model.summary()"
      ]
    },
    {
      "cell_type": "code",
      "execution_count": null,
      "metadata": {
        "colab": {
          "base_uri": "https://localhost:8080/"
        },
        "id": "xsRjHanhgKdz",
        "outputId": "4d21b9e6-1f71-440a-c240-6a482ab42953"
      },
      "outputs": [
        {
          "data": {
            "text/plain": [
              "896"
            ]
          },
          "execution_count": 29,
          "metadata": {},
          "output_type": "execute_result"
        }
      ],
      "source": [
        "32*(3*3*3+1)"
      ]
    },
    {
      "cell_type": "markdown",
      "metadata": {
        "id": "45FIoOE71H9l"
      },
      "source": [
        "## **Hidden Layers**"
      ]
    },
    {
      "cell_type": "code",
      "execution_count": null,
      "metadata": {
        "id": "u7m8c8DbgZIV"
      },
      "outputs": [],
      "source": [
        "model.add(Dense(300,activation='relu'))\n",
        "model.add(Dense(150,activation='relu'))"
      ]
    },
    {
      "cell_type": "markdown",
      "metadata": {
        "id": "GEWOP9gL1Srw"
      },
      "source": [
        "## **Output Layers**"
      ]
    },
    {
      "cell_type": "code",
      "execution_count": null,
      "metadata": {
        "id": "nNoe5-Gegihp"
      },
      "outputs": [],
      "source": [
        "model.add(Dense(5,activation='softmax'))"
      ]
    },
    {
      "cell_type": "markdown",
      "metadata": {
        "id": "qKYkCo221bpI"
      },
      "source": [
        "# **5.Compile the Model**"
      ]
    },
    {
      "cell_type": "code",
      "execution_count": null,
      "metadata": {
        "id": "cR7y-LmagpiY"
      },
      "outputs": [],
      "source": [
        "model.compile(loss='categorical_crossentropy',optimizer='adam',metrics=['accuracy'])"
      ]
    },
    {
      "cell_type": "code",
      "execution_count": null,
      "metadata": {
        "colab": {
          "base_uri": "https://localhost:8080/"
        },
        "id": "rIt3k9Oxgx0g",
        "outputId": "3f803c0d-9f7c-4c33-a019-69551f7ea57d"
      },
      "outputs": [
        {
          "data": {
            "text/plain": [
              "180"
            ]
          },
          "execution_count": 33,
          "metadata": {},
          "output_type": "execute_result"
        }
      ],
      "source": [
        "len(x_train)"
      ]
    },
    {
      "cell_type": "code",
      "execution_count": null,
      "metadata": {
        "colab": {
          "base_uri": "https://localhost:8080/"
        },
        "id": "a9VlZKcBg3MR",
        "outputId": "56bbda63-a187-4f21-e817-5d97852bc5d0"
      },
      "outputs": [
        {
          "data": {
            "text/plain": [
              "179.875"
            ]
          },
          "execution_count": 34,
          "metadata": {},
          "output_type": "execute_result"
        }
      ],
      "source": [
        "4317/24"
      ]
    },
    {
      "cell_type": "markdown",
      "metadata": {
        "id": "vKa21QSg1nnj"
      },
      "source": [
        "# **6.Fit the Model**"
      ]
    },
    {
      "cell_type": "code",
      "execution_count": null,
      "metadata": {
        "colab": {
          "base_uri": "https://localhost:8080/"
        },
        "id": "fwzLK-lBg623",
        "outputId": "bc7cc165-bfc9-45c1-c635-b62b6e07b817"
      },
      "outputs": [
        {
          "name": "stdout",
          "output_type": "stream",
          "text": [
            "Epoch 1/5\n"
          ]
        },
        {
          "name": "stderr",
          "output_type": "stream",
          "text": [
            "WARNING:tensorflow:AutoGraph could not transform <function Model.make_train_function.<locals>.train_function at 0x7f9b721270e0> and will run it as-is.\n",
            "Please report this to the TensorFlow team. When filing the bug, set the verbosity to 10 (on Linux, `export AUTOGRAPH_VERBOSITY=10`) and attach the full output.\n",
            "Cause: closure mismatch, requested ('self', 'step_function'), but source function had ()\n",
            "To silence this warning, decorate the function with @tf.autograph.experimental.do_not_convert\n"
          ]
        },
        {
          "name": "stdout",
          "output_type": "stream",
          "text": [
            "WARNING: AutoGraph could not transform <function Model.make_train_function.<locals>.train_function at 0x7f9b721270e0> and will run it as-is.\n",
            "Please report this to the TensorFlow team. When filing the bug, set the verbosity to 10 (on Linux, `export AUTOGRAPH_VERBOSITY=10`) and attach the full output.\n",
            "Cause: closure mismatch, requested ('self', 'step_function'), but source function had ()\n",
            "To silence this warning, decorate the function with @tf.autograph.experimental.do_not_convert\n",
            "180/180 [==============================] - ETA: 0s - loss: 1.2956 - accuracy: 0.4658"
          ]
        },
        {
          "name": "stderr",
          "output_type": "stream",
          "text": [
            "WARNING:tensorflow:AutoGraph could not transform <function Model.make_test_function.<locals>.test_function at 0x7f9b7104df80> and will run it as-is.\n",
            "Please report this to the TensorFlow team. When filing the bug, set the verbosity to 10 (on Linux, `export AUTOGRAPH_VERBOSITY=10`) and attach the full output.\n",
            "Cause: closure mismatch, requested ('self', 'step_function'), but source function had ()\n",
            "To silence this warning, decorate the function with @tf.autograph.experimental.do_not_convert\n"
          ]
        },
        {
          "name": "stdout",
          "output_type": "stream",
          "text": [
            "WARNING: AutoGraph could not transform <function Model.make_test_function.<locals>.test_function at 0x7f9b7104df80> and will run it as-is.\n",
            "Please report this to the TensorFlow team. When filing the bug, set the verbosity to 10 (on Linux, `export AUTOGRAPH_VERBOSITY=10`) and attach the full output.\n",
            "Cause: closure mismatch, requested ('self', 'step_function'), but source function had ()\n",
            "To silence this warning, decorate the function with @tf.autograph.experimental.do_not_convert\n",
            "180/180 [==============================] - 1081s 6s/step - loss: 1.2956 - accuracy: 0.4658 - val_loss: 1.0785 - val_accuracy: 0.5747\n",
            "Epoch 2/5\n",
            "180/180 [==============================] - 68s 378ms/step - loss: 1.0660 - accuracy: 0.5701 - val_loss: 1.1259 - val_accuracy: 0.5539\n",
            "Epoch 3/5\n",
            "180/180 [==============================] - 64s 356ms/step - loss: 0.9723 - accuracy: 0.6173 - val_loss: 0.9317 - val_accuracy: 0.6421\n",
            "Epoch 4/5\n",
            "180/180 [==============================] - 68s 380ms/step - loss: 0.9126 - accuracy: 0.6414 - val_loss: 1.0109 - val_accuracy: 0.6192\n",
            "Epoch 5/5\n",
            "180/180 [==============================] - 64s 354ms/step - loss: 0.8906 - accuracy: 0.6537 - val_loss: 0.9181 - val_accuracy: 0.6583\n"
          ]
        },
        {
          "data": {
            "text/plain": [
              "<keras.callbacks.History at 0x7f9b7214b210>"
            ]
          },
          "execution_count": 35,
          "metadata": {},
          "output_type": "execute_result"
        }
      ],
      "source": [
        "model.fit(x_train,steps_per_epoch=len(x_train),validation_data=x_test,validation_steps=len(x_test),epochs=5)\n"
      ]
    },
    {
      "cell_type": "markdown",
      "metadata": {
        "id": "k1IecQSl1v3b"
      },
      "source": [
        "# **7.Save the Model**"
      ]
    },
    {
      "cell_type": "code",
      "execution_count": null,
      "metadata": {
        "id": "LX4e3XIymtZs"
      },
      "outputs": [],
      "source": [
        "model.save('flowers.h5')"
      ]
    },
    {
      "cell_type": "code",
      "execution_count": null,
      "metadata": {
        "colab": {
          "base_uri": "https://localhost:8080/"
        },
        "id": "aPFUh17_mzq3",
        "outputId": "2c3fddba-c269-4656-ae8a-4558193552e1"
      },
      "outputs": [
        {
          "name": "stdout",
          "output_type": "stream",
          "text": [
            "\u001b[0m\u001b[01;34mdaisy\u001b[0m/  \u001b[01;34mdandelion\u001b[0m/  \u001b[01;34mrose\u001b[0m/  \u001b[01;34msunflower\u001b[0m/  \u001b[01;34mtulip\u001b[0m/\n"
          ]
        }
      ],
      "source": [
        "ls flowers/"
      ]
    },
    {
      "cell_type": "markdown",
      "metadata": {
        "id": "PM3pK-sN18Sz"
      },
      "source": [
        "# **8.Test the Model**"
      ]
    },
    {
      "cell_type": "code",
      "execution_count": null,
      "metadata": {
        "id": "p2gNHpHOm5sY"
      },
      "outputs": [],
      "source": [
        "import numpy as np\n",
        "from tensorflow.keras.models import load_model\n",
        "from tensorflow.keras.preprocessing import image"
      ]
    },
    {
      "cell_type": "code",
      "execution_count": null,
      "metadata": {
        "id": "jTuWlCLbnDtA"
      },
      "outputs": [],
      "source": [
        "#load the model\n",
        "model=load_model('flowers.h5')"
      ]
    },
    {
      "cell_type": "code",
      "execution_count": null,
      "metadata": {
        "id": "LSDaba1bntVk"
      },
      "outputs": [],
      "source": [
        "img=image.load_img('/content/drive/MyDrive/flowers/rose/15949087094_a8f565295c_m.jpg')"
      ]
    },
    {
      "cell_type": "code",
      "execution_count": null,
      "metadata": {
        "colab": {
          "base_uri": "https://localhost:8080/",
          "height": 257
        },
        "id": "-yCmJkBBoenF",
        "outputId": "1e0d0ffe-83b9-4fc1-c480-32aa67bc4e47"
      },
      "outputs": [
        {
          "data": {
            "image/png": "[encoded data removed]",
            "text/plain": [
              "<PIL.JpegImagePlugin.JpegImageFile image mode=RGB size=159x240 at 0x7F9B71BA42D0>"
            ]
          },
          "execution_count": 42,
          "metadata": {},
          "output_type": "execute_result"
        }
      ],
      "source": [
        "img"
      ]
    },
    {
      "cell_type": "code",
      "execution_count": null,
      "metadata": {
        "colab": {
          "base_uri": "https://localhost:8080/",
          "height": 81
        },
        "id": "K89p3MW4ojUp",
        "outputId": "0aee7b86-7d63-4636-e636-a7c10c21a365"
      },
      "outputs": [
        {
          "data": {
            "image/png": "[encoded data removed]",
            "text/plain": [
              "<PIL.Image.Image image mode=RGB size=64x64 at 0x7F9B71BCD390>"
            ]
          },
          "execution_count": 43,
          "metadata": {},
          "output_type": "execute_result"
        }
      ],
      "source": [
        "img=image.load_img('/content/drive/MyDrive/flowers/rose/15949087094_a8f565295c_m.jpg',target_size=(64,64))\n",
        "img"
      ]
    },
    {
      "cell_type": "code",
      "execution_count": null,
      "metadata": {
        "id": "2GTfCfEUpDQ9"
      },
      "outputs": [],
      "source": [
        "x=image.img_to_array(img)"
      ]
    },
    {
      "cell_type": "code",
      "execution_count": null,
      "metadata": {
        "colab": {
          "base_uri": "https://localhost:8080/"
        },
        "id": "i8Ns7ZV3pjRa",
        "outputId": "6ffb739c-9f8f-4257-96d5-07de2f301bac"
      },
      "outputs": [
        {
          "data": {
            "text/plain": [
              "array([[[212., 210., 187.],\n",
              "        [210., 210., 184.],\n",
              "        [218., 214., 189.],\n",
              "        ...,\n",
              "        [219., 215., 190.],\n",
              "        [215., 211., 186.],\n",
              "        [216., 212., 187.]],\n",
              "\n",
              "       [[213., 211., 188.],\n",
              "        [218., 214., 189.],\n",
              "        [218., 214., 189.],\n",
              "        ...,\n",
              "        [221., 219., 196.],\n",
              "        [216., 214., 191.],\n",
              "        [217., 215., 192.]],\n",
              "\n",
              "       [[216., 214., 191.],\n",
              "        [214., 212., 189.],\n",
              "        [220., 218., 195.],\n",
              "        ...,\n",
              "        [213., 215., 193.],\n",
              "        [228., 224., 199.],\n",
              "        [222., 220., 199.]],\n",
              "\n",
              "       ...,\n",
              "\n",
              "       [[191., 193., 169.],\n",
              "        [189., 197., 174.],\n",
              "        [186., 196., 169.],\n",
              "        ...,\n",
              "        [195., 210., 191.],\n",
              "        [207., 212., 190.],\n",
              "        [210., 213., 192.]],\n",
              "\n",
              "       [[195., 199., 174.],\n",
              "        [191., 196., 174.],\n",
              "        [188., 201., 175.],\n",
              "        ...,\n",
              "        [212., 217., 197.],\n",
              "        [209., 214., 194.],\n",
              "        [209., 213., 196.]],\n",
              "\n",
              "       [[193., 195., 171.],\n",
              "        [195., 198., 177.],\n",
              "        [185., 195., 170.],\n",
              "        ...,\n",
              "        [213., 216., 197.],\n",
              "        [203., 206., 185.],\n",
              "        [207., 211., 188.]]], dtype=float32)"
            ]
          },
          "execution_count": 48,
          "metadata": {},
          "output_type": "execute_result"
        }
      ],
      "source": [
        "x"
      ]
    },
    {
      "cell_type": "code",
      "execution_count": null,
      "metadata": {
        "id": "BeXROqmJpmq7"
      },
      "outputs": [],
      "source": [
        "x=np.expand_dims(x,axis=0)"
      ]
    },
    {
      "cell_type": "code",
      "execution_count": null,
      "metadata": {
        "colab": {
          "base_uri": "https://localhost:8080/"
        },
        "id": "hOhK_HSsp-43",
        "outputId": "7ad10126-7af6-4fb3-926b-7ec41e799390"
      },
      "outputs": [
        {
          "data": {
            "text/plain": [
              "array([[[[212., 210., 187.],\n",
              "         [210., 210., 184.],\n",
              "         [218., 214., 189.],\n",
              "         ...,\n",
              "         [219., 215., 190.],\n",
              "         [215., 211., 186.],\n",
              "         [216., 212., 187.]],\n",
              "\n",
              "        [[213., 211., 188.],\n",
              "         [218., 214., 189.],\n",
              "         [218., 214., 189.],\n",
              "         ...,\n",
              "         [221., 219., 196.],\n",
              "         [216., 214., 191.],\n",
              "         [217., 215., 192.]],\n",
              "\n",
              "        [[216., 214., 191.],\n",
              "         [214., 212., 189.],\n",
              "         [220., 218., 195.],\n",
              "         ...,\n",
              "         [213., 215., 193.],\n",
              "         [228., 224., 199.],\n",
              "         [222., 220., 199.]],\n",
              "\n",
              "        ...,\n",
              "\n",
              "        [[191., 193., 169.],\n",
              "         [189., 197., 174.],\n",
              "         [186., 196., 169.],\n",
              "         ...,\n",
              "         [195., 210., 191.],\n",
              "         [207., 212., 190.],\n",
              "         [210., 213., 192.]],\n",
              "\n",
              "        [[195., 199., 174.],\n",
              "         [191., 196., 174.],\n",
              "         [188., 201., 175.],\n",
              "         ...,\n",
              "         [212., 217., 197.],\n",
              "         [209., 214., 194.],\n",
              "         [209., 213., 196.]],\n",
              "\n",
              "        [[193., 195., 171.],\n",
              "         [195., 198., 177.],\n",
              "         [185., 195., 170.],\n",
              "         ...,\n",
              "         [213., 216., 197.],\n",
              "         [203., 206., 185.],\n",
              "         [207., 211., 188.]]]], dtype=float32)"
            ]
          },
          "execution_count": 52,
          "metadata": {},
          "output_type": "execute_result"
        }
      ],
      "source": [
        "x"
      ]
    },
    {
      "cell_type": "code",
      "execution_count": null,
      "metadata": {
        "colab": {
          "base_uri": "https://localhost:8080/"
        },
        "id": "OTA506J8qOcU",
        "outputId": "6744b8b2-830f-4cd1-9bfe-dab468ce476f"
      },
      "outputs": [
        {
          "name": "stdout",
          "output_type": "stream",
          "text": [
            "1/1 [==============================] - 0s 30ms/step\n"
          ]
        },
        {
          "data": {
            "text/plain": [
              "array([2])"
            ]
          },
          "execution_count": 59,
          "metadata": {},
          "output_type": "execute_result"
        }
      ],
      "source": [
        "y=np.argmax(model.predict(x),axis=1)\n",
        "y"
      ]
    },
    {
      "cell_type": "code",
      "execution_count": null,
      "metadata": {
        "colab": {
          "base_uri": "https://localhost:8080/"
        },
        "id": "_U5q4S9mqtw6",
        "outputId": "67a41bf4-7a1f-4d63-850a-643ef9522403"
      },
      "outputs": [
        {
          "data": {
            "text/plain": [
              "{'daisy': 0, 'dandelion': 1, 'rose': 2, 'sunflower': 3, 'tulip': 4}"
            ]
          },
          "execution_count": 60,
          "metadata": {},
          "output_type": "execute_result"
        }
      ],
      "source": [
        "x_train.class_indices\n"
      ]
    },
    {
      "cell_type": "code",
      "execution_count": null,
      "metadata": {
        "id": "FczdIe8uqwuH"
      },
      "outputs": [],
      "source": [
        "index=['daisy','dandelion','rose','sunflower']"
      ]
    },
    {
      "cell_type": "code",
      "execution_count": null,
      "metadata": {
        "colab": {
          "base_uri": "https://localhost:8080/",
          "height": 35
        },
        "id": "Rrq93btFrcCw",
        "outputId": "4d6f0404-9741-4bf7-b9a4-373dd59eb1a0"
      },
      "outputs": [
        {
          "data": {
            "application/vnd.google.colaboratory.intrinsic+json": {
              "type": "string"
            },
            "text/plain": [
              "'rose'"
            ]
          },
          "execution_count": 62,
          "metadata": {},
          "output_type": "execute_result"
        }
      ],
      "source": [
        "index[y[0]]"
      ]
    },
    {
      "cell_type": "code",
      "execution_count": null,
      "metadata": {
        "colab": {
          "base_uri": "https://localhost:8080/",
          "height": 53
        },
        "id": "2ZjNSBhsrroz",
        "outputId": "8572abd3-2ac9-4dfa-c13f-dae63c80a9a7"
      },
      "outputs": [
        {
          "name": "stdout",
          "output_type": "stream",
          "text": [
            "1/1 [==============================] - 0s 30ms/step\n"
          ]
        },
        {
          "data": {
            "application/vnd.google.colaboratory.intrinsic+json": {
              "type": "string"
            },
            "text/plain": [
              "'dandelion'"
            ]
          },
          "execution_count": 83,
          "metadata": {},
          "output_type": "execute_result"
        }
      ],
      "source": [
        "img=image.load_img('/content/drive/MyDrive/flowers/dandelion/10294487385_92a0676c7d_m.jpg',target_size=(64,64))\n",
        "x=image.img_to_array(img)\n",
        "x=np.expand_dims(x,axis=0)\n",
        "y=np.argmax(model.predict(x),axis=1)\n",
        "index=['dandelion','daisy','rose','sunflower']\n",
        "index[y[0]]"
      ]
    },
    {
      "cell_type": "code",
      "execution_count": null,
      "metadata": {
        "colab": {
          "base_uri": "https://localhost:8080/",
          "height": 81
        },
        "id": "e1ZJznn2tiAN",
        "outputId": "fa585d8a-59ad-4b64-b459-c4944b1dc76c"
      },
      "outputs": [
        {
          "data": {
            "image/png": "[encoded data removed]",
            "text/plain": [
              "<PIL.Image.Image image mode=RGB size=64x64 at 0x7F9B6A6B0D50>"
            ]
          },
          "execution_count": 84,
          "metadata": {},
          "output_type": "execute_result"
        }
      ],
      "source": [
        "img"
      ]
    },
    {
      "cell_type": "code",
      "execution_count": null,
      "metadata": {
        "colab": {
          "base_uri": "https://localhost:8080/",
          "height": 53
        },
        "id": "mZDbiI4mw3fT",
        "outputId": "fc79fb6e-620a-4d46-b20a-0afa5ba3caee"
      },
      "outputs": [
        {
          "name": "stdout",
          "output_type": "stream",
          "text": [
            "1/1 [==============================] - 0s 24ms/step\n"
          ]
        },
        {
          "data": {
            "application/vnd.google.colaboratory.intrinsic+json": {
              "type": "string"
            },
            "text/plain": [
              "'rose'"
            ]
          },
          "execution_count": 81,
          "metadata": {},
          "output_type": "execute_result"
        }
      ],
      "source": [
        "img=image.load_img('/content/drive/MyDrive/flowers/rose/12338444334_72fcc2fc58_m.jpg',target_size=(64,64))\n",
        "x=image.img_to_array(img)\n",
        "x=np.expand_dims(x,axis=0)\n",
        "y=np.argmax(model.predict(x),axis=1)\n",
        "index=['daisy','dandelion','rose','sunflower']\n",
        "index[y[0]]"
      ]
    },
    {
      "cell_type": "code",
      "execution_count": null,
      "metadata": {
        "colab": {
          "background_save": true,
          "base_uri": "https://localhost:8080/",
          "height": 81
        },
        "id": "Gu5ebsjuxXOb",
        "outputId": "98650b3d-4725-4882-f896-59b99cf3d3c6"
      },
      "outputs": [
        {
          "data": {
            "image/png": "[encoded data removed]",
            "text/plain": [
              "<PIL.Image.Image image mode=RGB size=64x64 at 0x7F9B6B96B110>"
            ]
          },
          "execution_count": 91,
          "metadata": {},
          "output_type": "execute_result"
        }
      ],
      "source": [
        "img"
      ]
    },
    {
      "cell_type": "code",
      "execution_count": null,
      "metadata": {
        "colab": {
          "base_uri": "https://localhost:8080/",
          "height": 53
        },
        "id": "xC8noUtFxcZe",
        "outputId": "cc634120-e1d8-4b02-d9f9-462f8ea6751c"
      },
      "outputs": [
        {
          "name": "stdout",
          "output_type": "stream",
          "text": [
            "1/1 [==============================] - 0s 28ms/step\n"
          ]
        },
        {
          "data": {
            "application/vnd.google.colaboratory.intrinsic+json": {
              "type": "string"
            },
            "text/plain": [
              "'tulip'"
            ]
          },
          "execution_count": 88,
          "metadata": {},
          "output_type": "execute_result"
        }
      ],
      "source": [
        "img=image.load_img('/content/drive/MyDrive/flowers/tulip/10164073235_f29931d91e.jpg',target_size=(64,64))\n",
        "x=image.img_to_array(img)\n",
        "x=np.expand_dims(x,axis=0)\n",
        "y=np.argmax(model.predict(x),axis=1)\n",
        "index=['sunflower','daisy','dandelion','rose','tulip']\n",
        "index[y[0]]"
      ]
    },
    {
      "cell_type": "code",
      "execution_count": null,
      "metadata": {
        "colab": {
          "base_uri": "https://localhost:8080/",
          "height": 81
        },
        "id": "VhoKYeeByqOY",
        "outputId": "3aa6774c-e26b-4989-c0d9-5b94a7db9a10"
      },
      "outputs": [
        {
          "data": {
            "image/png": "[encoded data removed]",
            "text/plain": [
              "<PIL.Image.Image image mode=RGB size=64x64 at 0x7F9B6A6ABFD0>"
            ]
          },
          "execution_count": 89,
          "metadata": {},
          "output_type": "execute_result"
        }
      ],
      "source": [
        "img"
      ]
    }
  ],
  "metadata": {
    "colab": {
      "collapsed_sections": [],
      "provenance": []
    },
    "kernelspec": {
      "display_name": "Python 3",
      "name": "python3"
    },
    "language_info": {
      "name": "python"
    }
  },
  "nbformat": 4,
  "nbformat_minor": 0
}